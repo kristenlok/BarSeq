{
 "cells": [
  {
   "cell_type": "code",
   "execution_count": 1,
   "metadata": {},
   "outputs": [
    {
     "data": {
      "text/html": [
       "<div>\n",
       "<style scoped>\n",
       "    .dataframe tbody tr th:only-of-type {\n",
       "        vertical-align: middle;\n",
       "    }\n",
       "\n",
       "    .dataframe tbody tr th {\n",
       "        vertical-align: top;\n",
       "    }\n",
       "\n",
       "    .dataframe thead th {\n",
       "        text-align: right;\n",
       "    }\n",
       "</style>\n",
       "<table border=\"1\" class=\"dataframe\">\n",
       "  <thead>\n",
       "    <tr style=\"text-align: right;\">\n",
       "      <th></th>\n",
       "      <th>index</th>\n",
       "      <th>gene_ID</th>\n",
       "      <th>avg_var(x_corr)</th>\n",
       "      <th>std(x_corr)</th>\n",
       "    </tr>\n",
       "  </thead>\n",
       "  <tbody>\n",
       "    <tr>\n",
       "      <th>0</th>\n",
       "      <td>1806</td>\n",
       "      <td>ECB_00941</td>\n",
       "      <td>8.706755e-07</td>\n",
       "      <td>0.000933</td>\n",
       "    </tr>\n",
       "    <tr>\n",
       "      <th>1</th>\n",
       "      <td>932</td>\n",
       "      <td>ECB_02357</td>\n",
       "      <td>7.954908e-07</td>\n",
       "      <td>0.000892</td>\n",
       "    </tr>\n",
       "    <tr>\n",
       "      <th>2</th>\n",
       "      <td>1187</td>\n",
       "      <td>ECB_00151</td>\n",
       "      <td>7.250337e-07</td>\n",
       "      <td>0.000851</td>\n",
       "    </tr>\n",
       "    <tr>\n",
       "      <th>3</th>\n",
       "      <td>838</td>\n",
       "      <td>ECB_01231</td>\n",
       "      <td>7.131319e-07</td>\n",
       "      <td>0.000844</td>\n",
       "    </tr>\n",
       "    <tr>\n",
       "      <th>4</th>\n",
       "      <td>1826</td>\n",
       "      <td>ECB_01937</td>\n",
       "      <td>6.932457e-07</td>\n",
       "      <td>0.000833</td>\n",
       "    </tr>\n",
       "  </tbody>\n",
       "</table>\n",
       "</div>"
      ],
      "text/plain": [
       "   index    gene_ID  avg_var(x_corr)  std(x_corr)\n",
       "0   1806  ECB_00941     8.706755e-07     0.000933\n",
       "1    932  ECB_02357     7.954908e-07     0.000892\n",
       "2   1187  ECB_00151     7.250337e-07     0.000851\n",
       "3    838  ECB_01231     7.131319e-07     0.000844\n",
       "4   1826  ECB_01937     6.932457e-07     0.000833"
      ]
     },
     "execution_count": 1,
     "metadata": {},
     "output_type": "execute_result"
    }
   ],
   "source": [
    "import pandas as pd\n",
    "from matplotlib import pyplot as plt\n",
    "import numpy as np\n",
    "import math\n",
    "\n",
    "dfL1 = pd.read_csv('FL1.csv', index_col=0)\n",
    "dfL2 = pd.read_csv('FL2.csv', index_col=0)\n",
    "\n",
    "dfS1 = pd.read_csv('FS1.csv', index_col=0)\n",
    "dfS2 = pd.read_csv('FS2.csv', index_col=0)\n",
    "\n",
    "dfS2.head()"
   ]
  },
  {
   "cell_type": "code",
   "execution_count": 2,
   "metadata": {},
   "outputs": [
    {
     "name": "stdout",
     "output_type": "stream",
     "text": [
      "['ECB_02521', 'ECB_02517', 'ECB_01374', 'ECB_03337', 'ECB_02561', 'ECB_02168', 'ECB_02540', 'ECB_03335', 'ECB_02705', 'ECB_01701', 'ECB_02924', 'ECB_02523', 'ECB_03823', 'ECB_03370', 'ECB_04275', 'ECB_02562', 'ECB_03229', 'ECB_02571', 'ECB_01140', 'ECB_03579', 'ECB_02526', 'ECB_02259', 'ECB_03950', 'ECB_02634', 'ECB_01550', 'ECB_02684', 'ECB_03676', 'ECB_01152', 'ECB_00586', 'ECB_03993', 'ECB_03446', 'ECB_00396', 'ECB_02049', 'ECB_00860', 'ECB_02534', 'ECB_03705', 'ECB_02296', 'ECB_04202', 'ECB_01723', 'ECB_03939', 'ECB_01657', 'ECB_00760', 'ECB_04187', 'ECB_03894', 'ECB_01233', 'ECB_02850', 'ECB_00551', 'ECB_02319', 'ECB_00287', 'ECB_03369', 'ECB_00807', 'ECB_03893', 'ECB_02532', 'ECB_04204', 'ECB_00249', 'ECB_03745', 'ECB_04108', 'ECB_01449', 'ECB_00557', 'ECB_00345', 'ECB_03126', 'ECB_00216', 'ECB_02896', 'ECB_02155', 'ECB_01904', 'ECB_03999', 'ECB_02656', 'ECB_00531', 'ECB_02613', 'ECB_04098', 'ECB_03376', 'ECB_02428', 'ECB_03865', 'ECB_01444', 'ECB_00302', 'ECB_01063', 'ECB_03704', 'ECB_01216', 'ECB_04229', 'ECB_03849', 'ECB_03027', 'ECB_02632', 'ECB_04090', 'ECB_00214', 'ECB_00974']\n"
     ]
    }
   ],
   "source": [
    "#first n genes of highest variance in L1 and L2\n",
    "def common(df1, df2, n):\n",
    "    comm_arr = []\n",
    "    for gene in df1[\"gene_ID\"]:\n",
    "        if gene in df2[\"gene_ID\"].values.tolist()[0:n]:\n",
    "            comm_arr.append(gene)\n",
    "    return comm_arr\n",
    "        \n",
    "commonL = common(dfL1, dfL2, 100)\n",
    "print(commonL)"
   ]
  },
  {
   "cell_type": "code",
   "execution_count": 3,
   "metadata": {},
   "outputs": [
    {
     "name": "stdout",
     "output_type": "stream",
     "text": [
      "['ECB_01514', 'ECB_02505', 'ECB_01937', 'ECB_00306', 'ECB_01627', 'ECB_00542', 'ECB_00151', 'ECB_00401', 'ECB_03550', 'ECB_00583', 'ECB_04077', 'ECB_03327', 'ECB_00234', 'ECB_02595', 'ECB_01005', 'ECB_00317', 'ECB_02357', 'ECB_01209', 'ECB_03982', 'ECB_01355', 'ECB_01176', 'ECB_04117', 'ECB_03141', 'ECB_01351', 'ECB_00941', 'ECB_02141', 'ECB_03875', 'ECB_00581', 'ECB_01393', 'ECB_04054', 'ECB_02644', 'ECB_02587', 'ECB_03908', 'ECB_00991', 'ECB_03751', 'ECB_01676', 'ECB_01127', 'ECB_02861', 'ECB_01387', 'ECB_03675', 'ECB_00453', 'ECB_03819', 'ECB_02611', 'ECB_02974', 'ECB_04065', 'ECB_02374', 'ECB_01231', 'ECB_02268', 'ECB_01858', 'ECB_01201', 'ECB_03504', 'ECB_01119', 'ECB_01747', 'ECB_02556', 'ECB_02829', 'ECB_02520', 'ECB_03631', 'ECB_00668', 'ECB_03990', 'ECB_02684', 'ECB_00537', 'ECB_02639', 'ECB_00413', 'ECB_02367', 'ECB_00790', 'ECB_02087', 'ECB_00547', 'ECB_03369', 'ECB_04145', 'ECB_01314', 'ECB_00946', 'ECB_03334', 'ECB_03502', 'ECB_00316', 'ECB_02518', 'ECB_02439', 'ECB_03595', 'ECB_02227', 'ECB_00775', 'ECB_00622', 'ECB_00779', 'ECB_02490', 'ECB_02187', 'ECB_02259', 'ECB_03397', 'ECB_00898', 'ECB_02293']\n"
     ]
    }
   ],
   "source": [
    "#first n genes of highest variance in S\n",
    "commonS = common(dfS1, dfS2, 100)\n",
    "print(commonS)"
   ]
  },
  {
   "cell_type": "code",
   "execution_count": 4,
   "metadata": {},
   "outputs": [
    {
     "data": {
      "text/plain": [
       "['ECB_02259', 'ECB_02684', 'ECB_03369']"
      ]
     },
     "execution_count": 4,
     "metadata": {},
     "output_type": "execute_result"
    }
   ],
   "source": [
    "#first 3 genes of highest variance in S&L\n",
    "def commoner(l1, l2):\n",
    "    comm_arr = []\n",
    "    for gene in l1:\n",
    "        if gene in l2:\n",
    "            comm_arr.append(gene)\n",
    "    return comm_arr\n",
    "\n",
    "commoner(commonL, commonS)"
   ]
  },
  {
   "cell_type": "code",
   "execution_count": null,
   "metadata": {},
   "outputs": [],
   "source": []
  }
 ],
 "metadata": {
  "kernelspec": {
   "display_name": "Python 3",
   "language": "python",
   "name": "python3"
  },
  "language_info": {
   "codemirror_mode": {
    "name": "ipython",
    "version": 3
   },
   "file_extension": ".py",
   "mimetype": "text/x-python",
   "name": "python",
   "nbconvert_exporter": "python",
   "pygments_lexer": "ipython3",
   "version": "3.8.3"
  }
 },
 "nbformat": 4,
 "nbformat_minor": 4
}
