{
 "cells": [
  {
   "cell_type": "code",
   "execution_count": 3,
   "metadata": {},
   "outputs": [
    {
     "data": {
      "text/html": [
       "<div>\n",
       "<style scoped>\n",
       "    .dataframe tbody tr th:only-of-type {\n",
       "        vertical-align: middle;\n",
       "    }\n",
       "\n",
       "    .dataframe tbody tr th {\n",
       "        vertical-align: top;\n",
       "    }\n",
       "\n",
       "    .dataframe thead th {\n",
       "        text-align: right;\n",
       "    }\n",
       "</style>\n",
       "<table border=\"1\" class=\"dataframe\">\n",
       "  <thead>\n",
       "    <tr style=\"text-align: right;\">\n",
       "      <th></th>\n",
       "      <th>index</th>\n",
       "      <th>gene_ID</th>\n",
       "      <th>avg_var(x_corr)</th>\n",
       "      <th>std(x_corr)</th>\n",
       "    </tr>\n",
       "  </thead>\n",
       "  <tbody>\n",
       "    <tr>\n",
       "      <th>0</th>\n",
       "      <td>1106</td>\n",
       "      <td>ECB_02732</td>\n",
       "      <td>0.000007</td>\n",
       "      <td>0.002618</td>\n",
       "    </tr>\n",
       "    <tr>\n",
       "      <th>1</th>\n",
       "      <td>662</td>\n",
       "      <td>ECB_02593</td>\n",
       "      <td>0.000003</td>\n",
       "      <td>0.001701</td>\n",
       "    </tr>\n",
       "    <tr>\n",
       "      <th>2</th>\n",
       "      <td>2328</td>\n",
       "      <td>ECB_03262</td>\n",
       "      <td>0.000003</td>\n",
       "      <td>0.001626</td>\n",
       "    </tr>\n",
       "    <tr>\n",
       "      <th>3</th>\n",
       "      <td>856</td>\n",
       "      <td>ECB_04077</td>\n",
       "      <td>0.000002</td>\n",
       "      <td>0.001504</td>\n",
       "    </tr>\n",
       "    <tr>\n",
       "      <th>4</th>\n",
       "      <td>2446</td>\n",
       "      <td>ECB_03978</td>\n",
       "      <td>0.000002</td>\n",
       "      <td>0.001474</td>\n",
       "    </tr>\n",
       "  </tbody>\n",
       "</table>\n",
       "</div>"
      ],
      "text/plain": [
       "   index    gene_ID  avg_var(x_corr)  std(x_corr)\n",
       "0   1106  ECB_02732         0.000007     0.002618\n",
       "1    662  ECB_02593         0.000003     0.001701\n",
       "2   2328  ECB_03262         0.000003     0.001626\n",
       "3    856  ECB_04077         0.000002     0.001504\n",
       "4   2446  ECB_03978         0.000002     0.001474"
      ]
     },
     "execution_count": 3,
     "metadata": {},
     "output_type": "execute_result"
    }
   ],
   "source": [
    "import pandas as pd\n",
    "from matplotlib import pyplot as plt\n",
    "import numpy as np\n",
    "import math\n",
    "\n",
    "dfL1 = pd.read_csv('FL1.csv', index_col=0)\n",
    "dfL2 = pd.read_csv('FL2.csv', index_col=0)\n",
    "\n",
    "dfS1 = pd.read_csv('FS1.csv', index_col=0)\n",
    "dfS2 = pd.read_csv('FS2.csv', index_col=0)\n",
    "\n",
    "dfS2.head()"
   ]
  },
  {
   "cell_type": "code",
   "execution_count": 28,
   "metadata": {},
   "outputs": [
    {
     "name": "stdout",
     "output_type": "stream",
     "text": [
      "['ECB_02677', 'ECB_02910', 'ECB_01537', 'ECB_01645', 'ECB_02515', 'ECB_03081', 'ECB_02521', 'ECB_02551', 'ECB_02542', 'ECB_03993', 'ECB_01701', 'ECB_02517', 'ECB_02640', 'ECB_04158', 'ECB_01482', 'ECB_03182', 'ECB_01423', 'ECB_00763', 'ECB_02561', 'ECB_02630', 'ECB_03831', 'ECB_02573', 'ECB_02526', 'ECB_01605', 'ECB_03085', 'ECB_02516', 'ECB_02491', 'ECB_02705', 'ECB_04011', 'ECB_01209', 'ECB_02583', 'ECB_02636', 'ECB_02924', 'ECB_00719', 'ECB_02523', 'ECB_02581', 'ECB_00128', 'ECB_03902', 'ECB_03370', 'ECB_04275', 'ECB_03229', 'ECB_02571', 'ECB_03306', 'ECB_03805', 'ECB_01278', 'ECB_00249', 'ECB_03800', 'ECB_02572', 'ECB_01072', 'ECB_03950', 'ECB_02634', 'ECB_01152', 'ECB_00393', 'ECB_00586', 'ECB_02785', 'ECB_00776', 'ECB_02534', 'ECB_04098', 'ECB_00802', 'ECB_02590', 'ECB_00531', 'ECB_02614', 'ECB_02532', 'ECB_01652', 'ECB_00316', 'ECB_00444', 'ECB_03386', 'ECB_00551', 'ECB_02595', 'ECB_03291', 'ECB_03893', 'ECB_00580', 'ECB_02490', 'ECB_02538', 'ECB_03597', 'ECB_01449', 'ECB_03126', 'ECB_02098', 'ECB_02560', 'ECB_03999', 'ECB_03453', 'ECB_03329', 'ECB_00938', 'ECB_01904', 'ECB_00937', 'ECB_01216', 'ECB_01591', 'ECB_00302', 'ECB_01063', 'ECB_00201', 'ECB_02865', 'ECB_00214', 'ECB_00342', 'ECB_02448', 'ECB_00718']\n"
     ]
    }
   ],
   "source": [
    "#first n genes of highest variance in L1 and L2\n",
    "def common(df1, df2, n):\n",
    "    comm_arr = []\n",
    "    for gene in df1[\"gene_ID\"]:\n",
    "        if gene in df2[\"gene_ID\"].values.tolist()[0:n]:\n",
    "            comm_arr.append(gene)\n",
    "    return comm_arr\n",
    "        \n",
    "commonL = common(dfL1, dfL2, 100)\n",
    "print(commonL)"
   ]
  },
  {
   "cell_type": "code",
   "execution_count": 27,
   "metadata": {},
   "outputs": [
    {
     "name": "stdout",
     "output_type": "stream",
     "text": [
      "['ECB_02593', 'ECB_03262', 'ECB_04077', 'ECB_02782', 'ECB_02794', 'ECB_02844', 'ECB_02840', 'ECB_02558', 'ECB_01800', 'ECB_00581', 'ECB_02233', 'ECB_02847', 'ECB_03297', 'ECB_02839', 'ECB_02690', 'ECB_02888', 'ECB_02235', 'ECB_02618', 'ECB_03252', 'ECB_02679', 'ECB_02641', 'ECB_01395', 'ECB_02024', 'ECB_01937', 'ECB_01751', 'ECB_02623', 'ECB_03047', 'ECB_02874', 'ECB_00324', 'ECB_02784', 'ECB_01209', 'ECB_03869', 'ECB_02732', 'ECB_02357', 'ECB_00151', 'ECB_03752', 'ECB_01824', 'ECB_00855', 'ECB_03550', 'ECB_03969', 'ECB_01975', 'ECB_02186', 'ECB_02880', 'ECB_04150', 'ECB_03112', 'ECB_02490', 'ECB_01562', 'ECB_02684', 'ECB_02050', 'ECB_01436', 'ECB_02061', 'ECB_01969', 'ECB_00941', 'ECB_00947', 'ECB_03702', 'ECB_02032', 'ECB_03736', 'ECB_02639', 'ECB_02336', 'ECB_01890', 'ECB_02227', 'ECB_01231', 'ECB_00428', 'ECB_02268', 'ECB_02474', 'ECB_01291', 'ECB_03990', 'ECB_03631', 'ECB_00861', 'ECB_03877', 'ECB_02253', 'ECB_03978', 'ECB_02924', 'ECB_02904', 'ECB_03244', 'ECB_01846', 'ECB_02166', 'ECB_00273', 'ECB_02728', 'ECB_02929', 'ECB_00777', 'ECB_00793', 'ECB_03033', 'ECB_02302', 'ECB_01079', 'ECB_00012', 'ECB_00922', 'ECB_00872', 'ECB_01104', 'ECB_01845', 'ECB_00251', 'ECB_02301', 'ECB_03812', 'ECB_00326']\n"
     ]
    }
   ],
   "source": [
    "#first n genes of highest variance in S\n",
    "commonS = common(dfS1, dfS2, 100)\n",
    "print(commonS)"
   ]
  },
  {
   "cell_type": "code",
   "execution_count": 32,
   "metadata": {},
   "outputs": [
    {
     "data": {
      "text/plain": [
       "['ECB_01209', 'ECB_02924', 'ECB_02490']"
      ]
     },
     "execution_count": 32,
     "metadata": {},
     "output_type": "execute_result"
    }
   ],
   "source": [
    "#first 3 genes of highest variance in S&L\n",
    "def commoner(l1, l2):\n",
    "    comm_arr = []\n",
    "    for gene in l1:\n",
    "        if gene in l2:\n",
    "            comm_arr.append(gene)\n",
    "    return comm_arr\n",
    "\n",
    "commoner(commonL, commonS)"
   ]
  },
  {
   "cell_type": "code",
   "execution_count": null,
   "metadata": {},
   "outputs": [],
   "source": []
  }
 ],
 "metadata": {
  "kernelspec": {
   "display_name": "Python 3",
   "language": "python",
   "name": "python3"
  },
  "language_info": {
   "codemirror_mode": {
    "name": "ipython",
    "version": 3
   },
   "file_extension": ".py",
   "mimetype": "text/x-python",
   "name": "python",
   "nbconvert_exporter": "python",
   "pygments_lexer": "ipython3",
   "version": "3.8.3"
  }
 },
 "nbformat": 4,
 "nbformat_minor": 4
}
